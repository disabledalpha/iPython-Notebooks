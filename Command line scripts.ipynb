{
 "metadata": {
  "name": "",
  "signature": "sha256:2fbc0163bd0ecec8bfae5a11ff1cb990189fa37e97fa1c3b210722493c4c126e"
 },
 "nbformat": 3,
 "nbformat_minor": 0,
 "worksheets": [
  {
   "cells": [
    {
     "cell_type": "code",
     "collapsed": false,
     "input": [
      "import os"
     ],
     "language": "python",
     "metadata": {},
     "outputs": [],
     "prompt_number": 1
    },
    {
     "cell_type": "markdown",
     "metadata": {},
     "source": [
      "## Batch convert of images from BMP to PNG"
     ]
    },
    {
     "cell_type": "markdown",
     "metadata": {},
     "source": [
      "Here we simply convert all the files in `folder_name` from bmp to png with the command\n",
      "```\n",
      "convert -resize 256x256 file.bmp file.png\n",
      "```"
     ]
    },
    {
     "cell_type": "code",
     "collapsed": false,
     "input": [
      "folder_name = \"./\"\n",
      "for filename in os.listdir(folder_name):\n",
      "    infilename = os.path.join(folder_name, filename)\n",
      "    if not os.path.isfile(infilename): \n",
      "        continue\n",
      "\n",
      "    base, extension = os.path.splitext(infilename)\n",
      "    if extension == '.bmp':\n",
      "        stringa = \"convert \" + infilename + \" \" + base + \".png\"\n",
      "        os.system(stringa)"
     ],
     "language": "python",
     "metadata": {},
     "outputs": []
    },
    {
     "cell_type": "markdown",
     "metadata": {},
     "source": [
      "Here we also crop them to square and resize them with\n",
      "```\n",
      "convert -crop 538x538+104+0 -resize 256x256 barleyrice001.bmp barleyrice001.png\n",
      "```"
     ]
    },
    {
     "cell_type": "code",
     "collapsed": false,
     "input": [
      "folder_name = \"../texture-db/outex/\"\n",
      "for filename in os.listdir(folder_name):\n",
      "    infilename = os.path.join(folder_name, filename)\n",
      "    if not os.path.isfile(infilename): \n",
      "        continue\n",
      "\n",
      "    base, extension = os.path.splitext(infilename)\n",
      "    if extension == '.bmp':\n",
      "        stringa = \"convert -crop 538x538+104+0 -resize 256x256 \" + infilename + \" \" + base + \".png\"\n",
      "#         print stringa\n",
      "        os.system(stringa)"
     ],
     "language": "python",
     "metadata": {},
     "outputs": [],
     "prompt_number": 10
    },
    {
     "cell_type": "markdown",
     "metadata": {},
     "source": [
      "## Download all urls contained in a file"
     ]
    },
    {
     "cell_type": "markdown",
     "metadata": {},
     "source": [
      "- Here we have a file (fname) where each line is a links.\n",
      "- We download them and save them in the directory dest_folder.\n",
      "- We remove the last 2 characters of the line (which are the \\n) and then use the name of the image as the name of the file we download.\n",
      "- We know that they are all bmp's so we attach that extension\n"
     ]
    },
    {
     "cell_type": "code",
     "collapsed": false,
     "input": [
      "dest_folder = \"../texture-db/outex/\"\n",
      "fname = \"../texture-db/bmp3\"\n",
      "with open(fname) as f:\n",
      "    content = f.readlines()\n",
      "for i in range(len(content)):\n",
      "    url = content[i][:-1]\n",
      "    name = content[i][42:-21]\n",
      "    command = \"curl \"+url+\"> \" +dest_folder+ name+\".bmp\"\n",
      "#     print command\n",
      "    os.system(command)"
     ],
     "language": "python",
     "metadata": {},
     "outputs": [],
     "prompt_number": 2
    },
    {
     "cell_type": "code",
     "collapsed": false,
     "input": [],
     "language": "python",
     "metadata": {},
     "outputs": []
    },
    {
     "cell_type": "code",
     "collapsed": false,
     "input": [],
     "language": "python",
     "metadata": {},
     "outputs": []
    }
   ],
   "metadata": {}
  }
 ]
}